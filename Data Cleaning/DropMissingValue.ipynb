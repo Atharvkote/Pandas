{
 "cells": [
  {
   "cell_type": "markdown",
   "id": "fc29a0c6-a418-4fc2-8ae2-40a9c5784d8c",
   "metadata": {},
   "source": [
    "# Droping Missing Data :\n",
    "\n",
    "Handling of missing data in a pandas DataFrame representing student information. Specifically, there are some rows in the name column that have missing values (None or NaN). The objective is to remove those rows with missing names from the DataFrame using the dropna function of pandas.\n",
    "\n",
    "- `Key Concepts` : 1. dropna Function: The dropna function belongs to the pandas DataFrame and is used to remove missing values. Missing data in pandas is generally represented by the NaN (short for Not a Number) value, though in your example it appears as None which is also considered a missing value by pandas.\n",
    "\n",
    "Here's the general usage of the dropna function:\n",
    "```python\n",
    "DataFrame.dropna(axis=0, how='any', thresh=None, subset=None, inplace=False)\n",
    "\n",
    "```\n",
    "- `Dropna Function Argument Definition`:\n",
    "  \n",
    "- `axis`: It can be `{0 or 'index', 1 or 'columns'}`. By default it's 0. If `axis=0`, it drops rows which contain missing values, and if axis=1, it drops columns which contain missing value.\n",
    "- `how`: Determines if row or column is removed from DataFrame, when we have at least one NA or all NA.\n",
    "- `how ='any'` : If any NA values are present, drop that row or column (default).\n",
    "- `how ='all' `: If all values are NA, drop that row or column.\n",
    "- `thresh`: Require that many non-NA values. This is an integer argument which requires a minimum number of non-NA values to keep the row/column.\n",
    "- `subset`: Labels along the other axis to consider, e.g. if you are dropping rows these would be a list of columns to include. This is particularly useful when you only want to consider NA values in certain columns.\n",
    "- `inplace`: It's a boolean which makes the changes in data frame itself if True. Always remember when using the `inplace=True `argument, you're modifying the original DataFrame. If you need to retain the original data for any reason, avoid using `inplace=True` and instead assign the result to a new DataFrame.\n",
    "\n",
    "- `Intuition`:\n",
    "- \n",
    "We are only considering the name column, so we set `subset=['name']`. This argument tells `dropna` to consider only the name column when looking for missing values. So, only rows where the name column has missing values will be dropped.\n",
    "We need to modify the original DataFrame, so set `inplace=True`. By setting inplace to True, we're modifying the original students DataFrame directly. If you set it to False (or omitted it), then a new DataFrame with the dropped rows would be returned, and the original students DataFrame would remain unchanged.\n",
    "```python\n",
    "students.dropna(subset=['name'], inplace=True)\n",
    "```"
   ]
  },
  {
   "cell_type": "code",
   "execution_count": 1,
   "id": "68c8e531-2be7-4d89-a9a6-604f5ad2e552",
   "metadata": {},
   "outputs": [],
   "source": [
    "import pandas as pd\n",
    "# Importing pandas library using 'Import' Keyord"
   ]
  },
  {
   "cell_type": "code",
   "execution_count": 2,
   "id": "408df93e-481a-4712-ad2e-71a0c9ca1656",
   "metadata": {},
   "outputs": [],
   "source": [
    "# Define the student data as a list of dictionaries\n",
    "student_data = [\n",
    "    {\"student_id\": 32, \"name\": \"Piper\", \"age\": 5},\n",
    "    {\"student_id\": 217, \"name\": \"Grace\", \"age\": 19},\n",
    "    {\"student_id\": 779, \"name\": None, \"age\": 20},\n",
    "    {\"student_id\": 849, \"name\": None, \"age\": 14}\n",
    "]"
   ]
  },
  {
   "cell_type": "code",
   "execution_count": 3,
   "id": "e325fbf4-8e07-4efe-bd24-e4df3d1a5426",
   "metadata": {},
   "outputs": [],
   "source": [
    "# Convert the list of dictionaries to a pandas DataFrame\n",
    "student_df = pd.DataFrame(student_data) # Passing student_data as parameter"
   ]
  },
  {
   "cell_type": "code",
   "execution_count": 4,
   "id": "5c230493-18cb-42cc-85d1-689db2e2e304",
   "metadata": {},
   "outputs": [
    {
     "data": {
      "text/html": [
       "<div>\n",
       "<style scoped>\n",
       "    .dataframe tbody tr th:only-of-type {\n",
       "        vertical-align: middle;\n",
       "    }\n",
       "\n",
       "    .dataframe tbody tr th {\n",
       "        vertical-align: top;\n",
       "    }\n",
       "\n",
       "    .dataframe thead th {\n",
       "        text-align: right;\n",
       "    }\n",
       "</style>\n",
       "<table border=\"1\" class=\"dataframe\">\n",
       "  <thead>\n",
       "    <tr style=\"text-align: right;\">\n",
       "      <th></th>\n",
       "      <th>student_id</th>\n",
       "      <th>name</th>\n",
       "      <th>age</th>\n",
       "    </tr>\n",
       "  </thead>\n",
       "  <tbody>\n",
       "    <tr>\n",
       "      <th>0</th>\n",
       "      <td>32</td>\n",
       "      <td>Piper</td>\n",
       "      <td>5</td>\n",
       "    </tr>\n",
       "    <tr>\n",
       "      <th>1</th>\n",
       "      <td>217</td>\n",
       "      <td>Grace</td>\n",
       "      <td>19</td>\n",
       "    </tr>\n",
       "    <tr>\n",
       "      <th>2</th>\n",
       "      <td>779</td>\n",
       "      <td>None</td>\n",
       "      <td>20</td>\n",
       "    </tr>\n",
       "    <tr>\n",
       "      <th>3</th>\n",
       "      <td>849</td>\n",
       "      <td>None</td>\n",
       "      <td>14</td>\n",
       "    </tr>\n",
       "  </tbody>\n",
       "</table>\n",
       "</div>"
      ],
      "text/plain": [
       "   student_id   name  age\n",
       "0          32  Piper    5\n",
       "1         217  Grace   19\n",
       "2         779   None   20\n",
       "3         849   None   14"
      ]
     },
     "execution_count": 4,
     "metadata": {},
     "output_type": "execute_result"
    }
   ],
   "source": [
    "# Display the DataFrame\n",
    "student_df"
   ]
  },
  {
   "cell_type": "code",
   "execution_count": 5,
   "id": "334673a4-de38-4667-8b3e-2b9005ae21dd",
   "metadata": {},
   "outputs": [],
   "source": [
    "student_df.dropna(subset=['name'], inplace=True)\n",
    "# Drop Rows with Undefined Datatypes or value"
   ]
  },
  {
   "cell_type": "code",
   "execution_count": 6,
   "id": "03156160-c0d4-4a0d-b95c-5ffd65aef333",
   "metadata": {},
   "outputs": [
    {
     "data": {
      "text/html": [
       "<div>\n",
       "<style scoped>\n",
       "    .dataframe tbody tr th:only-of-type {\n",
       "        vertical-align: middle;\n",
       "    }\n",
       "\n",
       "    .dataframe tbody tr th {\n",
       "        vertical-align: top;\n",
       "    }\n",
       "\n",
       "    .dataframe thead th {\n",
       "        text-align: right;\n",
       "    }\n",
       "</style>\n",
       "<table border=\"1\" class=\"dataframe\">\n",
       "  <thead>\n",
       "    <tr style=\"text-align: right;\">\n",
       "      <th></th>\n",
       "      <th>student_id</th>\n",
       "      <th>name</th>\n",
       "      <th>age</th>\n",
       "    </tr>\n",
       "  </thead>\n",
       "  <tbody>\n",
       "    <tr>\n",
       "      <th>0</th>\n",
       "      <td>32</td>\n",
       "      <td>Piper</td>\n",
       "      <td>5</td>\n",
       "    </tr>\n",
       "    <tr>\n",
       "      <th>1</th>\n",
       "      <td>217</td>\n",
       "      <td>Grace</td>\n",
       "      <td>19</td>\n",
       "    </tr>\n",
       "  </tbody>\n",
       "</table>\n",
       "</div>"
      ],
      "text/plain": [
       "   student_id   name  age\n",
       "0          32  Piper    5\n",
       "1         217  Grace   19"
      ]
     },
     "execution_count": 6,
     "metadata": {},
     "output_type": "execute_result"
    }
   ],
   "source": [
    "student_df\n",
    "# Printing student_df after Droping Missing Values"
   ]
  },
  {
   "cell_type": "markdown",
   "id": "c60f7de8-b104-4263-aa68-ae13ae8cc5d7",
   "metadata": {},
   "source": [
    "## This is How you Drop missing Value in the Dataframes "
   ]
  }
 ],
 "metadata": {
  "kernelspec": {
   "display_name": "Python 3 (ipykernel)",
   "language": "python",
   "name": "python3"
  },
  "language_info": {
   "codemirror_mode": {
    "name": "ipython",
    "version": 3
   },
   "file_extension": ".py",
   "mimetype": "text/x-python",
   "name": "python",
   "nbconvert_exporter": "python",
   "pygments_lexer": "ipython3",
   "version": "3.11.7"
  }
 },
 "nbformat": 4,
 "nbformat_minor": 5
}
