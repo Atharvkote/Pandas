{
 "cells": [
  {
   "cell_type": "markdown",
   "id": "c6cf69cb-8342-4617-8cec-38284025ad1d",
   "metadata": {},
   "source": [
    "# Filling Missing Values :\n",
    " \n",
    "We have a DataFrame named products that contains product data. However, some of the quantity data is missing. The goal is to fill the missing quantity data with the value of 0.\n",
    "\n",
    "- `Key Concepts`:\n",
    "\n",
    "1. `fillna Function` : fillna is a function in the pandas library, used primarily with pandas Series and DataFrame objects. It allows you to fill NA/NaN values using specified methods. In this context, we are using it to replace the None (or NaN in the usual dataframe representation) values.\n",
    "\n",
    "2. `fillna Function Argument Definition`:\n",
    "\n",
    "- The fillna function has several arguments that you can utilize, but we'll focus on the most commonly used ones:\n",
    "\n",
    "    - `value`: Scalar, dict, Series, or DataFrame. The value to use to fill holes (e.g. 0). This is what we use in our solution.\n",
    "\n",
    "    - `method`: `{‘backfill’, ‘bfill’, ‘pad’, ‘ffill’, None}`. Method to use for filling holes in reindexed Series. Default is None.\n",
    "\n",
    "    - `axis`: `{0 or ‘index’, 1 or ‘columns’}`. Axis along which to fill missing values.\n",
    "\n",
    "    - `inplace`: Bool. If True, fills in place. Note: this will modify any other views on this object. Default is False.\n",
    "\n",
    "- Intuition\n",
    "\n",
    "we use:\n",
    "\n",
    "```python\n",
    "\n",
    "products['quantity'].fillna(0, inplace=True)\n",
    "```\n",
    "Since we are trying to fill missing data from the quantity column of the products DataFrame, we apply the fillna function to `products['quantity']`.\n",
    "Since we want to replace missing values (NaN or None) with 0, we use the value argument as 0.\n",
    "Finally, we want to return the original DataFrame, so we set inplace=True to modify the original DataFrame directly without returning a new one. Note that if you don't use inplace=True, you would have to capture the result like this: \n",
    "\n",
    "```python\n",
    "products['quantity'] = products['quantity'].fillna(0)\n",
    "```\n",
    "When you pass the following DataFrame to this function:\n",
    "\n",
    "| name            | quantity | price |\n",
    "|-----------------|----------|-------|\n",
    "| Wristwatch      | 32       | 135   |\n",
    "| WirelessEarbuds | 0        | 821   |\n",
    "| GolfClubs       | 0        | 9319  |\n",
    "| Printer         | 849      | 3051  |\n",
    "\n",
    "\n",
    "It will return:\n",
    "\n",
    "| name            | quantity | price |\n",
    "|-----------------|----------|-------|\n",
    "| Wristwatch      | 32       | 135   |\n",
    "| WirelessEarbuds | None     | 821   |\n",
    "| GolfClubs       | None     | 9319  |\n",
    "| Printer         | 849      | 3051  |"
   ]
  },
  {
   "cell_type": "code",
   "execution_count": 1,
   "id": "51f7464a-9b51-4da6-9c51-288b896c75ff",
   "metadata": {},
   "outputs": [],
   "source": [
    "import pandas as pd\n",
    "# Importing pandas library using 'Import' Keyord"
   ]
  },
  {
   "cell_type": "code",
   "execution_count": 2,
   "id": "58d96ae2-0208-4e60-97ba-9a0c900c62e1",
   "metadata": {},
   "outputs": [],
   "source": [
    "raw_data = {\n",
    "    'name': ['Wristwatch', 'WirelessEarbuds', 'GolfClubs', 'Printer'],\n",
    "    'quantity': [32, None, None, 849],\n",
    "    'price': [135, 821, 9319, 3051]\n",
    "}\n",
    "# Define the data as a Nested dictionary"
   ]
  },
  {
   "cell_type": "code",
   "execution_count": 4,
   "id": "52cda28c-ab7a-4932-a31e-eb7a07164438",
   "metadata": {},
   "outputs": [],
   "source": [
    "# Create DataFrame with raw_data\n",
    "df = pd.DataFrame(raw_data)# passing Nested dictionary as parameter"
   ]
  },
  {
   "cell_type": "code",
   "execution_count": 5,
   "id": "29b7c888-86ff-4b08-8ae7-ef2f708dfb01",
   "metadata": {},
   "outputs": [
    {
     "data": {
      "text/html": [
       "<div>\n",
       "<style scoped>\n",
       "    .dataframe tbody tr th:only-of-type {\n",
       "        vertical-align: middle;\n",
       "    }\n",
       "\n",
       "    .dataframe tbody tr th {\n",
       "        vertical-align: top;\n",
       "    }\n",
       "\n",
       "    .dataframe thead th {\n",
       "        text-align: right;\n",
       "    }\n",
       "</style>\n",
       "<table border=\"1\" class=\"dataframe\">\n",
       "  <thead>\n",
       "    <tr style=\"text-align: right;\">\n",
       "      <th></th>\n",
       "      <th>name</th>\n",
       "      <th>quantity</th>\n",
       "      <th>price</th>\n",
       "    </tr>\n",
       "  </thead>\n",
       "  <tbody>\n",
       "    <tr>\n",
       "      <th>0</th>\n",
       "      <td>Wristwatch</td>\n",
       "      <td>32.0</td>\n",
       "      <td>135</td>\n",
       "    </tr>\n",
       "    <tr>\n",
       "      <th>1</th>\n",
       "      <td>WirelessEarbuds</td>\n",
       "      <td>NaN</td>\n",
       "      <td>821</td>\n",
       "    </tr>\n",
       "    <tr>\n",
       "      <th>2</th>\n",
       "      <td>GolfClubs</td>\n",
       "      <td>NaN</td>\n",
       "      <td>9319</td>\n",
       "    </tr>\n",
       "    <tr>\n",
       "      <th>3</th>\n",
       "      <td>Printer</td>\n",
       "      <td>849.0</td>\n",
       "      <td>3051</td>\n",
       "    </tr>\n",
       "  </tbody>\n",
       "</table>\n",
       "</div>"
      ],
      "text/plain": [
       "              name  quantity  price\n",
       "0       Wristwatch      32.0    135\n",
       "1  WirelessEarbuds       NaN    821\n",
       "2        GolfClubs       NaN   9319\n",
       "3          Printer     849.0   3051"
      ]
     },
     "execution_count": 5,
     "metadata": {},
     "output_type": "execute_result"
    }
   ],
   "source": [
    "df"
   ]
  },
  {
   "cell_type": "code",
   "execution_count": 7,
   "id": "12f8814c-de8c-46d5-8967-73817581e77e",
   "metadata": {},
   "outputs": [],
   "source": [
    "df['quantity'].fillna(0,inplace=True)\n",
    "# in subset 'quantity' replacing the NaN by Zero So that all numeric operations can be performed throughout the row "
   ]
  },
  {
   "cell_type": "code",
   "execution_count": 8,
   "id": "ad2b1dbb-fe6d-4afd-a152-5fda424ba3fd",
   "metadata": {},
   "outputs": [
    {
     "data": {
      "text/html": [
       "<div>\n",
       "<style scoped>\n",
       "    .dataframe tbody tr th:only-of-type {\n",
       "        vertical-align: middle;\n",
       "    }\n",
       "\n",
       "    .dataframe tbody tr th {\n",
       "        vertical-align: top;\n",
       "    }\n",
       "\n",
       "    .dataframe thead th {\n",
       "        text-align: right;\n",
       "    }\n",
       "</style>\n",
       "<table border=\"1\" class=\"dataframe\">\n",
       "  <thead>\n",
       "    <tr style=\"text-align: right;\">\n",
       "      <th></th>\n",
       "      <th>name</th>\n",
       "      <th>quantity</th>\n",
       "      <th>price</th>\n",
       "    </tr>\n",
       "  </thead>\n",
       "  <tbody>\n",
       "    <tr>\n",
       "      <th>0</th>\n",
       "      <td>Wristwatch</td>\n",
       "      <td>32.0</td>\n",
       "      <td>135</td>\n",
       "    </tr>\n",
       "    <tr>\n",
       "      <th>1</th>\n",
       "      <td>WirelessEarbuds</td>\n",
       "      <td>0.0</td>\n",
       "      <td>821</td>\n",
       "    </tr>\n",
       "    <tr>\n",
       "      <th>2</th>\n",
       "      <td>GolfClubs</td>\n",
       "      <td>0.0</td>\n",
       "      <td>9319</td>\n",
       "    </tr>\n",
       "    <tr>\n",
       "      <th>3</th>\n",
       "      <td>Printer</td>\n",
       "      <td>849.0</td>\n",
       "      <td>3051</td>\n",
       "    </tr>\n",
       "  </tbody>\n",
       "</table>\n",
       "</div>"
      ],
      "text/plain": [
       "              name  quantity  price\n",
       "0       Wristwatch      32.0    135\n",
       "1  WirelessEarbuds       0.0    821\n",
       "2        GolfClubs       0.0   9319\n",
       "3          Printer     849.0   3051"
      ]
     },
     "execution_count": 8,
     "metadata": {},
     "output_type": "execute_result"
    }
   ],
   "source": [
    "df"
   ]
  },
  {
   "cell_type": "markdown",
   "id": "0eac0023-2f42-4006-8b29-a900047d0d6a",
   "metadata": {},
   "source": [
    "# This is How YOU Fill Missing values"
   ]
  }
 ],
 "metadata": {
  "kernelspec": {
   "display_name": "Python 3 (ipykernel)",
   "language": "python",
   "name": "python3"
  },
  "language_info": {
   "codemirror_mode": {
    "name": "ipython",
    "version": 3
   },
   "file_extension": ".py",
   "mimetype": "text/x-python",
   "name": "python",
   "nbconvert_exporter": "python",
   "pygments_lexer": "ipython3",
   "version": "3.11.7"
  }
 },
 "nbformat": 4,
 "nbformat_minor": 5
}
