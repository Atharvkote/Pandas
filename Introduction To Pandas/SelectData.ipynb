{
 "cells": [
  {
   "cell_type": "markdown",
   "id": "71541455-9630-4428-b998-a3c6b47d65c8",
   "metadata": {},
   "source": [
    "# DataFrame Attributes :\n",
    "\n",
    "1. `loc[ ]` :\n",
    "\n",
    "### Key Concepts :\n",
    "\n",
    "- `loc attribute`: one of the primary ways to select data from a DataFrame. It is label-based, which means you have to specify the name of the rows or columns to select data. loc is label-based.\n",
    "  \n",
    "- `boolean mask`: a series of True/False values used to filter or select elements from another data structure, such as a list, array, or DataFrame, based on a certain condition.\n",
    "- `Intuition`\n",
    "The consider a students DataFrame has three columns:\n",
    "student_id (type: int) - a unique identifier for the student.\n",
    "name (type: object, which is generally a string in pandas) - the student's name.\n",
    "age (type: int) - the student's age.\n",
    "In this problem, we must create a function that accepts a DataFrame as an argument and returns a DataFrame with the required information.\n",
    "\n",
    "we will use the loc function to select the row where student_id is 101 and return the value from the name and age columns.\n",
    "To do this, we must provide loc with two arguments.\n",
    "\n",
    "```python\n",
    "students.loc[students['student_id'] == 101, ['name', 'age']]\n",
    "```\n",
    "\n",
    "2.`head()` :\n",
    "\n",
    "- `head method` :\n",
    "-  a method provided by the pandas library that is used on a DataFrame to return the first n rows. If n is omitted, it defaults to returning the first 5 rows. This is useful to get an overview or quick look at the beginning of large datasets.\n",
    "\n",
    "- `Intuition` :\n",
    "Let's explore step by step how to return the first 3 rows of a DataFrame.\n",
    "- `Importing pandas` :\n",
    " \n",
    "```python\n",
    "python import pandas as pd\n",
    "```\n",
    "This line imports the pandas library and gives it an alias name pd. The pandas library provides fast, flexible, and expressive data structures designed to work with structured (tabular, multidimensional, potentially heterogeneous) data.\n",
    "\n",
    "### DataFrame :\n",
    "| employee_id | name       | department             | salary |\n",
    "|-------------|------------|------------------------|--------|\n",
    "| 3           | Bob        | Operations             | 48675  |\n",
    "| 90          | Alice      | Sales                  | 11096  |\n",
    "| 9           | Tatiana    | Engineering            | 33805  |\n",
    "| 60          | Annabelle  | Information Technology | 37678  |\n",
    "| 49          | Jonathan   | Human Resources        | 23793  |\n",
    "| 43          | Khaled     | Administration         |        |\n",
    "\n",
    "- We return the employees DataFrame using the the head function with an input of 3, to indicate we want to return the first 3 rows:\n",
    "```python\n",
    "\n",
    "print(employees.head(3))\n",
    "\n",
    "```\n",
    "# Output : \n",
    "| employee_id | name    | department  | salary |\n",
    "|-------------|---------|-------------|--------|\n",
    "| 3           | Bob     | Operations  | 48675  |\n",
    "| 90          | Alice   | Sales       | 11096  |\n",
    "| 9           | Tatiana | Engineering | 33805  |\n",
    "\n"
   ]
  },
  {
   "cell_type": "markdown",
   "id": "7a61da48-af03-4419-a341-7a2ee3b61347",
   "metadata": {},
   "source": [
    "## head() Method :"
   ]
  },
  {
   "cell_type": "code",
   "execution_count": 1,
   "id": "1b63b120-7eef-4e33-88e7-1ea6adff8f9e",
   "metadata": {},
   "outputs": [],
   "source": [
    "import pandas as pd\n",
    "# Importing pandas library using 'Import' Keyord"
   ]
  },
  {
   "cell_type": "code",
   "execution_count": 2,
   "id": "63cb7fd2-119f-4a2a-a3e2-d9120f49b828",
   "metadata": {},
   "outputs": [],
   "source": [
    "employee_data = [\n",
    "    {\"employee_id\": 3, \"name\": \"Bob\", \"department\": \"Operations\", \"salary\": 48675},\n",
    "    {\"employee_id\": 90, \"name\": \"Alice\", \"department\": \"Sales\", \"salary\": 11096},\n",
    "    {\"employee_id\": 9, \"name\": \"Tatiana\", \"department\": \"Engineering\", \"salary\": 33805},\n",
    "    {\"employee_id\": 60, \"name\": \"Annabelle\", \"department\": \"Information Technology\", \"salary\": 37678},\n",
    "    {\"employee_id\": 49, \"name\": \"Jonathan\", \"department\": \"Human Resources\", \"salary\": 23793},\n",
    "    {\"employee_id\": 43, \"name\": \"Khaled\", \"department\": \"Administration\", \"salary\": None}\n",
    "]\n",
    "# Define the employee data as a list of dictionaries"
   ]
  },
  {
   "cell_type": "code",
   "execution_count": 3,
   "id": "faa3b0d5-661a-42b8-9e7c-628091fb5553",
   "metadata": {},
   "outputs": [],
   "source": [
    "# Convert the list of dictionaries to a pandas DataFrame\n",
    "employee_df = pd.DataFrame(employee_data)"
   ]
  },
  {
   "cell_type": "code",
   "execution_count": 4,
   "id": "cb0c8c7e-bcc1-4859-b696-aebc746b3f0a",
   "metadata": {},
   "outputs": [
    {
     "data": {
      "text/html": [
       "<div>\n",
       "<style scoped>\n",
       "    .dataframe tbody tr th:only-of-type {\n",
       "        vertical-align: middle;\n",
       "    }\n",
       "\n",
       "    .dataframe tbody tr th {\n",
       "        vertical-align: top;\n",
       "    }\n",
       "\n",
       "    .dataframe thead th {\n",
       "        text-align: right;\n",
       "    }\n",
       "</style>\n",
       "<table border=\"1\" class=\"dataframe\">\n",
       "  <thead>\n",
       "    <tr style=\"text-align: right;\">\n",
       "      <th></th>\n",
       "      <th>employee_id</th>\n",
       "      <th>name</th>\n",
       "      <th>department</th>\n",
       "      <th>salary</th>\n",
       "    </tr>\n",
       "  </thead>\n",
       "  <tbody>\n",
       "    <tr>\n",
       "      <th>0</th>\n",
       "      <td>3</td>\n",
       "      <td>Bob</td>\n",
       "      <td>Operations</td>\n",
       "      <td>48675.0</td>\n",
       "    </tr>\n",
       "    <tr>\n",
       "      <th>1</th>\n",
       "      <td>90</td>\n",
       "      <td>Alice</td>\n",
       "      <td>Sales</td>\n",
       "      <td>11096.0</td>\n",
       "    </tr>\n",
       "    <tr>\n",
       "      <th>2</th>\n",
       "      <td>9</td>\n",
       "      <td>Tatiana</td>\n",
       "      <td>Engineering</td>\n",
       "      <td>33805.0</td>\n",
       "    </tr>\n",
       "    <tr>\n",
       "      <th>3</th>\n",
       "      <td>60</td>\n",
       "      <td>Annabelle</td>\n",
       "      <td>Information Technology</td>\n",
       "      <td>37678.0</td>\n",
       "    </tr>\n",
       "    <tr>\n",
       "      <th>4</th>\n",
       "      <td>49</td>\n",
       "      <td>Jonathan</td>\n",
       "      <td>Human Resources</td>\n",
       "      <td>23793.0</td>\n",
       "    </tr>\n",
       "    <tr>\n",
       "      <th>5</th>\n",
       "      <td>43</td>\n",
       "      <td>Khaled</td>\n",
       "      <td>Administration</td>\n",
       "      <td>NaN</td>\n",
       "    </tr>\n",
       "  </tbody>\n",
       "</table>\n",
       "</div>"
      ],
      "text/plain": [
       "   employee_id       name              department   salary\n",
       "0            3        Bob              Operations  48675.0\n",
       "1           90      Alice                   Sales  11096.0\n",
       "2            9    Tatiana             Engineering  33805.0\n",
       "3           60  Annabelle  Information Technology  37678.0\n",
       "4           49   Jonathan         Human Resources  23793.0\n",
       "5           43     Khaled          Administration      NaN"
      ]
     },
     "execution_count": 4,
     "metadata": {},
     "output_type": "execute_result"
    }
   ],
   "source": [
    "employee_df"
   ]
  },
  {
   "cell_type": "code",
   "execution_count": 5,
   "id": "f49afcd7-4cc4-4121-9764-2f8ac7a0eae5",
   "metadata": {},
   "outputs": [
    {
     "data": {
      "text/html": [
       "<div>\n",
       "<style scoped>\n",
       "    .dataframe tbody tr th:only-of-type {\n",
       "        vertical-align: middle;\n",
       "    }\n",
       "\n",
       "    .dataframe tbody tr th {\n",
       "        vertical-align: top;\n",
       "    }\n",
       "\n",
       "    .dataframe thead th {\n",
       "        text-align: right;\n",
       "    }\n",
       "</style>\n",
       "<table border=\"1\" class=\"dataframe\">\n",
       "  <thead>\n",
       "    <tr style=\"text-align: right;\">\n",
       "      <th></th>\n",
       "      <th>employee_id</th>\n",
       "      <th>name</th>\n",
       "      <th>department</th>\n",
       "      <th>salary</th>\n",
       "    </tr>\n",
       "  </thead>\n",
       "  <tbody>\n",
       "    <tr>\n",
       "      <th>0</th>\n",
       "      <td>3</td>\n",
       "      <td>Bob</td>\n",
       "      <td>Operations</td>\n",
       "      <td>48675.0</td>\n",
       "    </tr>\n",
       "    <tr>\n",
       "      <th>1</th>\n",
       "      <td>90</td>\n",
       "      <td>Alice</td>\n",
       "      <td>Sales</td>\n",
       "      <td>11096.0</td>\n",
       "    </tr>\n",
       "    <tr>\n",
       "      <th>2</th>\n",
       "      <td>9</td>\n",
       "      <td>Tatiana</td>\n",
       "      <td>Engineering</td>\n",
       "      <td>33805.0</td>\n",
       "    </tr>\n",
       "  </tbody>\n",
       "</table>\n",
       "</div>"
      ],
      "text/plain": [
       "   employee_id     name   department   salary\n",
       "0            3      Bob   Operations  48675.0\n",
       "1           90    Alice        Sales  11096.0\n",
       "2            9  Tatiana  Engineering  33805.0"
      ]
     },
     "execution_count": 5,
     "metadata": {},
     "output_type": "execute_result"
    }
   ],
   "source": [
    "employee_df.head(3)\n",
    "# this Will return first three columns and rows in a DataFrames"
   ]
  },
  {
   "cell_type": "markdown",
   "id": "ede27918-016e-4d0c-9fc2-73b5f8fcdb24",
   "metadata": {},
   "source": [
    "# loc[ ] Method :"
   ]
  },
  {
   "cell_type": "markdown",
   "id": "db135836-ffeb-4a60-8185-dcabeffdb3da",
   "metadata": {},
   "source": [
    "### For our convinence we are creating a new DataFrame you can try with same Dataframe\n",
    "Here we are creating studenyyt data consisting their Name ,Student ID and Age."
   ]
  },
  {
   "cell_type": "code",
   "execution_count": 7,
   "id": "908f1a9e-62ee-4449-a773-92a3e1cdeab6",
   "metadata": {},
   "outputs": [],
   "source": [
    "student_data = [\n",
    "    {\"student_id\": 101, \"name\": \"Ulysses\", \"age\": 13},\n",
    "    {\"student_id\": 53, \"name\": \"William\", \"age\": 10},\n",
    "    {\"student_id\": 128, \"name\": \"Henry\", \"age\": 6},\n",
    "    {\"student_id\": 3, \"name\": \"Henry\", \"age\": 11}\n",
    "]\n",
    "# Define the student data as a list of dictionaries"
   ]
  },
  {
   "cell_type": "code",
   "execution_count": 8,
   "id": "b8474dcc-aed9-4736-9d36-488fda9dde82",
   "metadata": {},
   "outputs": [],
   "source": [
    "# Creating DataFrame Form Given Data\n",
    "student_df=pd.DataFrame(student_data)# passing Nested List as Parameter."
   ]
  },
  {
   "cell_type": "code",
   "execution_count": 9,
   "id": "15fc3b89-1a4e-492a-8ed9-d3a33e0f89bd",
   "metadata": {},
   "outputs": [
    {
     "data": {
      "text/html": [
       "<div>\n",
       "<style scoped>\n",
       "    .dataframe tbody tr th:only-of-type {\n",
       "        vertical-align: middle;\n",
       "    }\n",
       "\n",
       "    .dataframe tbody tr th {\n",
       "        vertical-align: top;\n",
       "    }\n",
       "\n",
       "    .dataframe thead th {\n",
       "        text-align: right;\n",
       "    }\n",
       "</style>\n",
       "<table border=\"1\" class=\"dataframe\">\n",
       "  <thead>\n",
       "    <tr style=\"text-align: right;\">\n",
       "      <th></th>\n",
       "      <th>student_id</th>\n",
       "      <th>name</th>\n",
       "      <th>age</th>\n",
       "    </tr>\n",
       "  </thead>\n",
       "  <tbody>\n",
       "    <tr>\n",
       "      <th>0</th>\n",
       "      <td>101</td>\n",
       "      <td>Ulysses</td>\n",
       "      <td>13</td>\n",
       "    </tr>\n",
       "    <tr>\n",
       "      <th>1</th>\n",
       "      <td>53</td>\n",
       "      <td>William</td>\n",
       "      <td>10</td>\n",
       "    </tr>\n",
       "    <tr>\n",
       "      <th>2</th>\n",
       "      <td>128</td>\n",
       "      <td>Henry</td>\n",
       "      <td>6</td>\n",
       "    </tr>\n",
       "    <tr>\n",
       "      <th>3</th>\n",
       "      <td>3</td>\n",
       "      <td>Henry</td>\n",
       "      <td>11</td>\n",
       "    </tr>\n",
       "  </tbody>\n",
       "</table>\n",
       "</div>"
      ],
      "text/plain": [
       "   student_id     name  age\n",
       "0         101  Ulysses   13\n",
       "1          53  William   10\n",
       "2         128    Henry    6\n",
       "3           3    Henry   11"
      ]
     },
     "execution_count": 9,
     "metadata": {},
     "output_type": "execute_result"
    }
   ],
   "source": [
    "student_df"
   ]
  },
  {
   "cell_type": "code",
   "execution_count": 11,
   "id": "64292a4a-b552-400d-a166-637db9952cde",
   "metadata": {},
   "outputs": [
    {
     "data": {
      "text/html": [
       "<div>\n",
       "<style scoped>\n",
       "    .dataframe tbody tr th:only-of-type {\n",
       "        vertical-align: middle;\n",
       "    }\n",
       "\n",
       "    .dataframe tbody tr th {\n",
       "        vertical-align: top;\n",
       "    }\n",
       "\n",
       "    .dataframe thead th {\n",
       "        text-align: right;\n",
       "    }\n",
       "</style>\n",
       "<table border=\"1\" class=\"dataframe\">\n",
       "  <thead>\n",
       "    <tr style=\"text-align: right;\">\n",
       "      <th></th>\n",
       "      <th>name</th>\n",
       "      <th>age</th>\n",
       "    </tr>\n",
       "  </thead>\n",
       "  <tbody>\n",
       "    <tr>\n",
       "      <th>0</th>\n",
       "      <td>Ulysses</td>\n",
       "      <td>13</td>\n",
       "    </tr>\n",
       "  </tbody>\n",
       "</table>\n",
       "</div>"
      ],
      "text/plain": [
       "      name  age\n",
       "0  Ulysses   13"
      ]
     },
     "execution_count": 11,
     "metadata": {},
     "output_type": "execute_result"
    }
   ],
   "source": [
    "# Select Data Using loc[ ] method \n",
    "student_df.loc[student_df['student_id'] == 101, ['name', 'age']]"
   ]
  },
  {
   "cell_type": "markdown",
   "id": "28860e84-03e6-4b8f-98c8-7726eb9605c8",
   "metadata": {},
   "source": [
    "## This is How you can Select data in DataFrame using head() and loc[] methods "
   ]
  },
  {
   "cell_type": "code",
   "execution_count": null,
   "id": "7e6fa66e-8cdf-477e-82f6-1baa444d4fb9",
   "metadata": {},
   "outputs": [],
   "source": []
  }
 ],
 "metadata": {
  "kernelspec": {
   "display_name": "Python 3 (ipykernel)",
   "language": "python",
   "name": "python3"
  },
  "language_info": {
   "codemirror_mode": {
    "name": "ipython",
    "version": 3
   },
   "file_extension": ".py",
   "mimetype": "text/x-python",
   "name": "python",
   "nbconvert_exporter": "python",
   "pygments_lexer": "ipython3",
   "version": "3.11.7"
  }
 },
 "nbformat": 4,
 "nbformat_minor": 5
}
