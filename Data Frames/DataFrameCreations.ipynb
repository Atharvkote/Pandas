{
 "cells": [
  {
   "cell_type": "markdown",
   "id": "62e540b3-6ec8-4ee7-8702-154729b9c496",
   "metadata": {},
   "source": [
    "# DataFrame Creation :\n",
    "\n",
    "A `DataFrame` is a powerful and convenient data structure provided by the pandas library. It is a 2D table-like structure, similar to a spreadsheet or SQL table. Each row represents an individual record and each column represents a different attribute.\n",
    "\n",
    "In this solution, we aim to convert a 2D list into a pandas DataFrame. This is a common application of the `pandas library` for when we have raw data in list format and want to convert it to a more structured, labeled format for easier analysis.\n",
    "\n",
    "### Key Concepts :\n",
    "\n",
    "- `2D List`: A list of lists where each inner list represents a row of data.\n",
    "- `Dictionary` : Dictionary Can Have The column header as key and store column elements in form of the list or other data structure.\n",
    "- `DataFrame`: A 2-dimensional labeled data structure in pandas.\n",
    "  \n",
    "### Syntax with Explanations :\n",
    "\n",
    "- `Importing pandas`:\n",
    "Python import pandas as pd This line imports the pandas library and gives it an alias name pd. The pandas library provides fast, flexible, and expressive data structures designed to work with structured (tabular, multidimensional, potentially heterogeneous) data.\n",
    "- `Using pd.DataFrame()`:\n",
    "- Syntax :\n",
    "```python\n",
    "pd.DataFrame(given_data)\n",
    "# This will allow us to transform our 2D list into a DataFrame.\n",
    " ```"
   ]
  },
  {
   "cell_type": "code",
   "execution_count": 1,
   "id": "f5db5aab-0694-4dfe-8257-bbf8a1534bb9",
   "metadata": {},
   "outputs": [],
   "source": [
    "import pandas as pd \n",
    "# Importing pandas library using 'Import' Keyord"
   ]
  },
  {
   "cell_type": "code",
   "execution_count": 2,
   "id": "00e6d34e-dde3-41a1-a50b-220ecb45bc9a",
   "metadata": {},
   "outputs": [],
   "source": [
    "given_data={\n",
    "    \"Name\" :[\"Atharva\",\"Pranav\",\"Bhushan\",\"Sairaj\"],\n",
    "    \"Roll Number\":[74,86,73,92]\n",
    "}\n",
    "# Given Data In the Form of Nested Dictionary with Column header as Key and Column in the List as a Element.    "
   ]
  },
  {
   "cell_type": "code",
   "execution_count": 3,
   "id": "50f5a1d3-74d2-4a8f-ba61-87247e01dd8d",
   "metadata": {},
   "outputs": [],
   "source": [
    "# Creating DataFrame Using Given_Data (Column Headers : Name , Roll Number and Columns : Atharva,Pranav....or 74,73,86... )\n",
    "df=pd.DataFrame(given_data)  # Passing given_data (Nested Dictionary) as a parameter  "
   ]
  },
  {
   "cell_type": "code",
   "execution_count": 4,
   "id": "55544b36-32e8-470a-b123-668e58a487de",
   "metadata": {},
   "outputs": [
    {
     "data": {
      "text/html": [
       "<div>\n",
       "<style scoped>\n",
       "    .dataframe tbody tr th:only-of-type {\n",
       "        vertical-align: middle;\n",
       "    }\n",
       "\n",
       "    .dataframe tbody tr th {\n",
       "        vertical-align: top;\n",
       "    }\n",
       "\n",
       "    .dataframe thead th {\n",
       "        text-align: right;\n",
       "    }\n",
       "</style>\n",
       "<table border=\"1\" class=\"dataframe\">\n",
       "  <thead>\n",
       "    <tr style=\"text-align: right;\">\n",
       "      <th></th>\n",
       "      <th>Name</th>\n",
       "      <th>Roll Number</th>\n",
       "    </tr>\n",
       "  </thead>\n",
       "  <tbody>\n",
       "    <tr>\n",
       "      <th>0</th>\n",
       "      <td>Atharva</td>\n",
       "      <td>74</td>\n",
       "    </tr>\n",
       "    <tr>\n",
       "      <th>1</th>\n",
       "      <td>Pranav</td>\n",
       "      <td>86</td>\n",
       "    </tr>\n",
       "    <tr>\n",
       "      <th>2</th>\n",
       "      <td>Bhushan</td>\n",
       "      <td>73</td>\n",
       "    </tr>\n",
       "    <tr>\n",
       "      <th>3</th>\n",
       "      <td>Sairaj</td>\n",
       "      <td>92</td>\n",
       "    </tr>\n",
       "  </tbody>\n",
       "</table>\n",
       "</div>"
      ],
      "text/plain": [
       "      Name  Roll Number\n",
       "0  Atharva           74\n",
       "1   Pranav           86\n",
       "2  Bhushan           73\n",
       "3   Sairaj           92"
      ]
     },
     "execution_count": 4,
     "metadata": {},
     "output_type": "execute_result"
    }
   ],
   "source": [
    "df"
   ]
  },
  {
   "cell_type": "markdown",
   "id": "c71caacc-f1fb-4a79-ad75-b7d7a0c9fc69",
   "metadata": {},
   "source": [
    "## Another Example\n",
    "In this Example we separately defined Column headers and than assinged them to the DataFrame df_two using the follwing syntax :\n",
    "\n",
    "- `Syntax`:\n",
    "```python\n",
    "dataframe_name =pd.DataFrame(Object,columns=column_headers)\n",
    "# object : list,dictionary,etc.\n",
    "```"
   ]
  },
  {
   "cell_type": "code",
   "execution_count": 5,
   "id": "d0716247-16ec-4766-8864-d9a6a830e5fe",
   "metadata": {},
   "outputs": [],
   "source": [
    "student_data=[\n",
    "    [1,15],\n",
    "    [2,16],\n",
    "    [3,17],\n",
    "    [4,18],\n",
    "    [5,19],\n",
    "    [6,20]\n",
    "]\n",
    "# Given Data is the Form of Nested List ,Inner List Consist of student ID as First Field And second Feild Is Student Roll Number."
   ]
  },
  {
   "cell_type": "code",
   "execution_count": 6,
   "id": "63760ca6-9495-48e5-b74c-404880f2d1ec",
   "metadata": {},
   "outputs": [],
   "source": [
    "# Declaring Column Header Separately in the Form of List\n",
    "column_headers=[ \"Student ID\",\"Roll Number\"]"
   ]
  },
  {
   "cell_type": "code",
   "execution_count": 7,
   "id": "27f86bad-ccc5-4d43-99e9-3282f3782a9f",
   "metadata": {},
   "outputs": [],
   "source": [
    "df_two=pd.DataFrame(student_data,columns=column_headers)\n",
    "# Passing given_data (Nested List) as a parameter  "
   ]
  },
  {
   "cell_type": "code",
   "execution_count": 8,
   "id": "a89f2bd6-1e69-49ee-8ead-1e4e1705b773",
   "metadata": {},
   "outputs": [
    {
     "data": {
      "text/html": [
       "<div>\n",
       "<style scoped>\n",
       "    .dataframe tbody tr th:only-of-type {\n",
       "        vertical-align: middle;\n",
       "    }\n",
       "\n",
       "    .dataframe tbody tr th {\n",
       "        vertical-align: top;\n",
       "    }\n",
       "\n",
       "    .dataframe thead th {\n",
       "        text-align: right;\n",
       "    }\n",
       "</style>\n",
       "<table border=\"1\" class=\"dataframe\">\n",
       "  <thead>\n",
       "    <tr style=\"text-align: right;\">\n",
       "      <th></th>\n",
       "      <th>Student ID</th>\n",
       "      <th>Roll Number</th>\n",
       "    </tr>\n",
       "  </thead>\n",
       "  <tbody>\n",
       "    <tr>\n",
       "      <th>0</th>\n",
       "      <td>1</td>\n",
       "      <td>15</td>\n",
       "    </tr>\n",
       "    <tr>\n",
       "      <th>1</th>\n",
       "      <td>2</td>\n",
       "      <td>16</td>\n",
       "    </tr>\n",
       "    <tr>\n",
       "      <th>2</th>\n",
       "      <td>3</td>\n",
       "      <td>17</td>\n",
       "    </tr>\n",
       "    <tr>\n",
       "      <th>3</th>\n",
       "      <td>4</td>\n",
       "      <td>18</td>\n",
       "    </tr>\n",
       "    <tr>\n",
       "      <th>4</th>\n",
       "      <td>5</td>\n",
       "      <td>19</td>\n",
       "    </tr>\n",
       "    <tr>\n",
       "      <th>5</th>\n",
       "      <td>6</td>\n",
       "      <td>20</td>\n",
       "    </tr>\n",
       "  </tbody>\n",
       "</table>\n",
       "</div>"
      ],
      "text/plain": [
       "   Student ID  Roll Number\n",
       "0           1           15\n",
       "1           2           16\n",
       "2           3           17\n",
       "3           4           18\n",
       "4           5           19\n",
       "5           6           20"
      ]
     },
     "execution_count": 8,
     "metadata": {},
     "output_type": "execute_result"
    }
   ],
   "source": [
    "df_two"
   ]
  },
  {
   "cell_type": "markdown",
   "id": "fb9002b5-bcb7-4443-a87f-de36599ed633",
   "metadata": {},
   "source": [
    "# Note :\n",
    "- In the DataFrame The First Column is The Index(Starts From Zero) you access or retrive data using index of the data field.\n",
    "- It is Default in the data frame ,you can remove it if you wish."
   ]
  },
  {
   "cell_type": "code",
   "execution_count": null,
   "id": "d774455e-0f74-4637-9c86-b3493e63d961",
   "metadata": {},
   "outputs": [],
   "source": []
  }
 ],
 "metadata": {
  "kernelspec": {
   "display_name": "Python 3 (ipykernel)",
   "language": "python",
   "name": "python3"
  },
  "language_info": {
   "codemirror_mode": {
    "name": "ipython",
    "version": 3
   },
   "file_extension": ".py",
   "mimetype": "text/x-python",
   "name": "python",
   "nbconvert_exporter": "python",
   "pygments_lexer": "ipython3",
   "version": "3.11.7"
  }
 },
 "nbformat": 4,
 "nbformat_minor": 5
}
