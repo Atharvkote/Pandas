{
 "cells": [
  {
   "cell_type": "markdown",
   "id": "d661a067-f5cb-49f4-9102-271ec3ac49bd",
   "metadata": {},
   "source": [
    "# Get Size of the DataFrame : \n",
    "\n",
    "To return the number of rows and columns present in the players DataFrame.\n",
    "\n",
    "- `Key Concepts` : - Attribute: In Python's pandas library, an attribute refers to a property or characteristic of an object that helps describe the object's state or its meta-information. Attributes in pandas are used to access various properties of DataFrame or Series objects, allowing users to retrieve meta-information or underlying data without performing a computation or causing side effects. - shape attribute: Returns the dimensions of the DataFrame or Series in the form of a tuple (rows, columns).\n",
    "\n",
    "- `Intuition` :\n",
    "Here's a step-by-step breakdown of the solution:\n",
    "\n",
    "1. `Importing the Required Library` :\n",
    "\n",
    "We first need to import the pandas library, which is a powerful tool in Python for data manipulation and analysis.\n",
    "```python\n",
    "import pandas as pd\n",
    "```\n",
    "3. `Using the shape attribute `:\n",
    "\n",
    "- Every DataFrame in pandas has a shape attribute. When you call it, it returns a `tuple (number of rows, number of columns)`. In our case, for the given `players DataFrame`, the shape would be `(10, 5)` because there are 10 players and 5 attributes for each player.\n",
    "\n",
    "4. `Returning Number Rows And Column Using List`:\n",
    "```python\n",
    "[players.shape[0], players.shape[1]]\n",
    "```\n",
    "`players.shape[0]` gives the number of rows in the DataFrame players.\n",
    "`players.shape[1]` gives the number of columns in the DataFrame players.\n",
    "This line thus returns a list containing these two values: `[players.shape[0], players.shape[1]]`."
   ]
  },
  {
   "cell_type": "code",
   "execution_count": 1,
   "id": "cd2e75aa-0e06-428b-8315-d74d24f31269",
   "metadata": {},
   "outputs": [],
   "source": [
    "import pandas as pd\n",
    "# Importing pandas library using 'Import' Keyord"
   ]
  },
  {
   "cell_type": "code",
   "execution_count": 4,
   "id": "8a448462-f61a-4daa-a254-b8b3e958b535",
   "metadata": {},
   "outputs": [],
   "source": [
    "data = [\n",
    "    {\"player_id\": 846, \"name\": \"Mason\", \"age\": 21, \"position\": \"Forward\", \"team\": \"Real Madrid\"},\n",
    "    {\"player_id\": 749, \"name\": \"Riley\", \"age\": 30, \"position\": \"Winger\", \"team\": \"Barcelona\"},\n",
    "    {\"player_id\": 155, \"name\": \"Bob\", \"age\": 28, \"position\": \"Striker\", \"team\": \"Manchester United\"},\n",
    "    {\"player_id\": 583, \"name\": \"Isabella\", \"age\": 32, \"position\": \"Goalkeeper\", \"team\": \"Liverpool\"},\n",
    "    {\"player_id\": 388, \"name\": \"Zachary\", \"age\": 24, \"position\": \"Midfielder\", \"team\": \"Bayern Munich\"},\n",
    "    {\"player_id\": 883, \"name\": \"Ava\", \"age\": 23, \"position\": \"Defender\", \"team\": \"Chelsea\"},\n",
    "    {\"player_id\": 355, \"name\": \"Violet\", \"age\": 18, \"position\": \"Striker\", \"team\": \"Juventus\"},\n",
    "    {\"player_id\": 247, \"name\": \"Thomas\", \"age\": 27, \"position\": \"Striker\", \"team\": \"Paris Saint-Germain\"},\n",
    "    {\"player_id\": 761, \"name\": \"Jack\", \"age\": 33, \"position\": \"Midfielder\", \"team\": \"Manchester City\"},\n",
    "    {\"player_id\": 642, \"name\": \"Charlie\", \"age\": 36, \"position\": \"Center-back\", \"team\": \"Arsenal\"}\n",
    "]\n",
    "# Given Data In the Form of Nested List with Dictionary in it. Column header as Key and Column contains there Elements.    "
   ]
  },
  {
   "cell_type": "code",
   "execution_count": 7,
   "id": "3a1ef083-de4d-4dee-999b-631114578f4a",
   "metadata": {},
   "outputs": [],
   "source": [
    "df = pd.DataFrame(data) # Passing Data (Nested List with Dictionary) as a parameter  \n",
    "# Creating DataFrame Using Data "
   ]
  },
  {
   "cell_type": "code",
   "execution_count": 8,
   "id": "9c6bf047-a010-46ae-8c56-711bbad1928f",
   "metadata": {},
   "outputs": [
    {
     "data": {
      "text/html": [
       "<div>\n",
       "<style scoped>\n",
       "    .dataframe tbody tr th:only-of-type {\n",
       "        vertical-align: middle;\n",
       "    }\n",
       "\n",
       "    .dataframe tbody tr th {\n",
       "        vertical-align: top;\n",
       "    }\n",
       "\n",
       "    .dataframe thead th {\n",
       "        text-align: right;\n",
       "    }\n",
       "</style>\n",
       "<table border=\"1\" class=\"dataframe\">\n",
       "  <thead>\n",
       "    <tr style=\"text-align: right;\">\n",
       "      <th></th>\n",
       "      <th>player_id</th>\n",
       "      <th>name</th>\n",
       "      <th>age</th>\n",
       "      <th>position</th>\n",
       "      <th>team</th>\n",
       "    </tr>\n",
       "  </thead>\n",
       "  <tbody>\n",
       "    <tr>\n",
       "      <th>0</th>\n",
       "      <td>846</td>\n",
       "      <td>Mason</td>\n",
       "      <td>21</td>\n",
       "      <td>Forward</td>\n",
       "      <td>Real Madrid</td>\n",
       "    </tr>\n",
       "    <tr>\n",
       "      <th>1</th>\n",
       "      <td>749</td>\n",
       "      <td>Riley</td>\n",
       "      <td>30</td>\n",
       "      <td>Winger</td>\n",
       "      <td>Barcelona</td>\n",
       "    </tr>\n",
       "    <tr>\n",
       "      <th>2</th>\n",
       "      <td>155</td>\n",
       "      <td>Bob</td>\n",
       "      <td>28</td>\n",
       "      <td>Striker</td>\n",
       "      <td>Manchester United</td>\n",
       "    </tr>\n",
       "    <tr>\n",
       "      <th>3</th>\n",
       "      <td>583</td>\n",
       "      <td>Isabella</td>\n",
       "      <td>32</td>\n",
       "      <td>Goalkeeper</td>\n",
       "      <td>Liverpool</td>\n",
       "    </tr>\n",
       "    <tr>\n",
       "      <th>4</th>\n",
       "      <td>388</td>\n",
       "      <td>Zachary</td>\n",
       "      <td>24</td>\n",
       "      <td>Midfielder</td>\n",
       "      <td>Bayern Munich</td>\n",
       "    </tr>\n",
       "    <tr>\n",
       "      <th>5</th>\n",
       "      <td>883</td>\n",
       "      <td>Ava</td>\n",
       "      <td>23</td>\n",
       "      <td>Defender</td>\n",
       "      <td>Chelsea</td>\n",
       "    </tr>\n",
       "    <tr>\n",
       "      <th>6</th>\n",
       "      <td>355</td>\n",
       "      <td>Violet</td>\n",
       "      <td>18</td>\n",
       "      <td>Striker</td>\n",
       "      <td>Juventus</td>\n",
       "    </tr>\n",
       "    <tr>\n",
       "      <th>7</th>\n",
       "      <td>247</td>\n",
       "      <td>Thomas</td>\n",
       "      <td>27</td>\n",
       "      <td>Striker</td>\n",
       "      <td>Paris Saint-Germain</td>\n",
       "    </tr>\n",
       "    <tr>\n",
       "      <th>8</th>\n",
       "      <td>761</td>\n",
       "      <td>Jack</td>\n",
       "      <td>33</td>\n",
       "      <td>Midfielder</td>\n",
       "      <td>Manchester City</td>\n",
       "    </tr>\n",
       "    <tr>\n",
       "      <th>9</th>\n",
       "      <td>642</td>\n",
       "      <td>Charlie</td>\n",
       "      <td>36</td>\n",
       "      <td>Center-back</td>\n",
       "      <td>Arsenal</td>\n",
       "    </tr>\n",
       "  </tbody>\n",
       "</table>\n",
       "</div>"
      ],
      "text/plain": [
       "   player_id      name  age     position                 team\n",
       "0        846     Mason   21      Forward          Real Madrid\n",
       "1        749     Riley   30       Winger            Barcelona\n",
       "2        155       Bob   28      Striker    Manchester United\n",
       "3        583  Isabella   32   Goalkeeper            Liverpool\n",
       "4        388   Zachary   24   Midfielder        Bayern Munich\n",
       "5        883       Ava   23     Defender              Chelsea\n",
       "6        355    Violet   18      Striker             Juventus\n",
       "7        247    Thomas   27      Striker  Paris Saint-Germain\n",
       "8        761      Jack   33   Midfielder      Manchester City\n",
       "9        642   Charlie   36  Center-back              Arsenal"
      ]
     },
     "execution_count": 8,
     "metadata": {},
     "output_type": "execute_result"
    }
   ],
   "source": [
    "df"
   ]
  },
  {
   "cell_type": "code",
   "execution_count": 9,
   "id": "0b312b40-1140-4202-937d-79b3f8002617",
   "metadata": {},
   "outputs": [],
   "source": [
    "size=[df.shape[0],df.shape[1]]\n",
    "# Intializing Size of the DataFrame'df' using shape 'attribute'"
   ]
  },
  {
   "cell_type": "code",
   "execution_count": 10,
   "id": "5ab5a736-9e1e-4dd0-b3f5-4d455c10d90d",
   "metadata": {},
   "outputs": [
    {
     "data": {
      "text/plain": [
       "[10, 5]"
      ]
     },
     "execution_count": 10,
     "metadata": {},
     "output_type": "execute_result"
    }
   ],
   "source": [
    "size"
   ]
  },
  {
   "cell_type": "markdown",
   "id": "763ca2b5-d354-41a1-af32-52aefff5305b",
   "metadata": {},
   "source": [
    "### Size of the Data Frame is [10,5].\n",
    "- `Summary`:\n",
    "   - `df.shape[0]` : Returns Number of Rows in the DataFrame.\n",
    "   - `df.shape[1]` : returns number of Columns in the List.\n",
    "      \n",
    "**i.e its Consist of 10 rows and 5 column**"
   ]
  },
  {
   "cell_type": "markdown",
   "id": "b33bb0aa-c4d9-457a-b705-995e51c1cd12",
   "metadata": {},
   "source": [
    "# Method 2 :\n",
    "\n",
    "## Using axes[] Attribute :\n",
    "- The task appears to involve finding the size of a DataFrame, which likely means determining the number of rows and columns it contains. This can be accomplished using Pandas DataFrame attributes.\n",
    "\n",
    "- `Approach`\n",
    "To find the number of rows and columns in the DataFrame, we can use the axes attribute of the DataFrame object. The `axes[0]` gives the row axis and `axes[1]` gives the column axis. We'll simply take the length of these axes to find the number of rows and columns."
   ]
  },
  {
   "cell_type": "code",
   "execution_count": 11,
   "id": "3a232b8c-c611-459c-b79d-b99326d14f83",
   "metadata": {},
   "outputs": [
    {
     "data": {
      "text/html": [
       "<div>\n",
       "<style scoped>\n",
       "    .dataframe tbody tr th:only-of-type {\n",
       "        vertical-align: middle;\n",
       "    }\n",
       "\n",
       "    .dataframe tbody tr th {\n",
       "        vertical-align: top;\n",
       "    }\n",
       "\n",
       "    .dataframe thead th {\n",
       "        text-align: right;\n",
       "    }\n",
       "</style>\n",
       "<table border=\"1\" class=\"dataframe\">\n",
       "  <thead>\n",
       "    <tr style=\"text-align: right;\">\n",
       "      <th></th>\n",
       "      <th>player_id</th>\n",
       "      <th>name</th>\n",
       "      <th>age</th>\n",
       "      <th>position</th>\n",
       "      <th>team</th>\n",
       "    </tr>\n",
       "  </thead>\n",
       "  <tbody>\n",
       "    <tr>\n",
       "      <th>0</th>\n",
       "      <td>846</td>\n",
       "      <td>Mason</td>\n",
       "      <td>21</td>\n",
       "      <td>Forward</td>\n",
       "      <td>Real Madrid</td>\n",
       "    </tr>\n",
       "    <tr>\n",
       "      <th>1</th>\n",
       "      <td>749</td>\n",
       "      <td>Riley</td>\n",
       "      <td>30</td>\n",
       "      <td>Winger</td>\n",
       "      <td>Barcelona</td>\n",
       "    </tr>\n",
       "    <tr>\n",
       "      <th>2</th>\n",
       "      <td>155</td>\n",
       "      <td>Bob</td>\n",
       "      <td>28</td>\n",
       "      <td>Striker</td>\n",
       "      <td>Manchester United</td>\n",
       "    </tr>\n",
       "    <tr>\n",
       "      <th>3</th>\n",
       "      <td>583</td>\n",
       "      <td>Isabella</td>\n",
       "      <td>32</td>\n",
       "      <td>Goalkeeper</td>\n",
       "      <td>Liverpool</td>\n",
       "    </tr>\n",
       "    <tr>\n",
       "      <th>4</th>\n",
       "      <td>388</td>\n",
       "      <td>Zachary</td>\n",
       "      <td>24</td>\n",
       "      <td>Midfielder</td>\n",
       "      <td>Bayern Munich</td>\n",
       "    </tr>\n",
       "    <tr>\n",
       "      <th>5</th>\n",
       "      <td>883</td>\n",
       "      <td>Ava</td>\n",
       "      <td>23</td>\n",
       "      <td>Defender</td>\n",
       "      <td>Chelsea</td>\n",
       "    </tr>\n",
       "    <tr>\n",
       "      <th>6</th>\n",
       "      <td>355</td>\n",
       "      <td>Violet</td>\n",
       "      <td>18</td>\n",
       "      <td>Striker</td>\n",
       "      <td>Juventus</td>\n",
       "    </tr>\n",
       "    <tr>\n",
       "      <th>7</th>\n",
       "      <td>247</td>\n",
       "      <td>Thomas</td>\n",
       "      <td>27</td>\n",
       "      <td>Striker</td>\n",
       "      <td>Paris Saint-Germain</td>\n",
       "    </tr>\n",
       "    <tr>\n",
       "      <th>8</th>\n",
       "      <td>761</td>\n",
       "      <td>Jack</td>\n",
       "      <td>33</td>\n",
       "      <td>Midfielder</td>\n",
       "      <td>Manchester City</td>\n",
       "    </tr>\n",
       "    <tr>\n",
       "      <th>9</th>\n",
       "      <td>642</td>\n",
       "      <td>Charlie</td>\n",
       "      <td>36</td>\n",
       "      <td>Center-back</td>\n",
       "      <td>Arsenal</td>\n",
       "    </tr>\n",
       "  </tbody>\n",
       "</table>\n",
       "</div>"
      ],
      "text/plain": [
       "   player_id      name  age     position                 team\n",
       "0        846     Mason   21      Forward          Real Madrid\n",
       "1        749     Riley   30       Winger            Barcelona\n",
       "2        155       Bob   28      Striker    Manchester United\n",
       "3        583  Isabella   32   Goalkeeper            Liverpool\n",
       "4        388   Zachary   24   Midfielder        Bayern Munich\n",
       "5        883       Ava   23     Defender              Chelsea\n",
       "6        355    Violet   18      Striker             Juventus\n",
       "7        247    Thomas   27      Striker  Paris Saint-Germain\n",
       "8        761      Jack   33   Midfielder      Manchester City\n",
       "9        642   Charlie   36  Center-back              Arsenal"
      ]
     },
     "execution_count": 11,
     "metadata": {},
     "output_type": "execute_result"
    }
   ],
   "source": [
    "# Already have DataFrame \n",
    "df"
   ]
  },
  {
   "cell_type": "code",
   "execution_count": 12,
   "id": "5e1fd3c2-7172-4400-86e9-62e77bf7e22f",
   "metadata": {},
   "outputs": [],
   "source": [
    "rows=len(df.axes[0])\n",
    "# axes[0] is use to access the rows using index we simply calculate length of the row"
   ]
  },
  {
   "cell_type": "code",
   "execution_count": 13,
   "id": "006ca8d5-d262-490d-b565-75933b30d215",
   "metadata": {},
   "outputs": [],
   "source": [
    "column=len(df.axes[1])\n",
    "# axes[0] is use to access the column using index,we simply calculate length of the column"
   ]
  },
  {
   "cell_type": "code",
   "execution_count": 14,
   "id": "810967b0-c93b-43dc-8a70-4b5f56638bbd",
   "metadata": {},
   "outputs": [
    {
     "name": "stdout",
     "output_type": "stream",
     "text": [
      "Number of Rows in the DataFrame : 10\n",
      "Number of Column in the DataFrame : 5\n"
     ]
    }
   ],
   "source": [
    "print(f\"Number of Rows in the DataFrame : {rows}\")\n",
    "print(f\"Number of Column in the DataFrame : {column}\")"
   ]
  },
  {
   "cell_type": "markdown",
   "id": "db0e35b3-3d6b-4583-bb3b-ba2dc6b153d4",
   "metadata": {},
   "source": [
    "### This how we can get the size or the length of the rows and column"
   ]
  },
  {
   "cell_type": "code",
   "execution_count": null,
   "id": "885a148f-0bc5-4b7e-9a38-47fd81535d70",
   "metadata": {},
   "outputs": [],
   "source": []
  }
 ],
 "metadata": {
  "kernelspec": {
   "display_name": "Python 3 (ipykernel)",
   "language": "python",
   "name": "python3"
  },
  "language_info": {
   "codemirror_mode": {
    "name": "ipython",
    "version": 3
   },
   "file_extension": ".py",
   "mimetype": "text/x-python",
   "name": "python",
   "nbconvert_exporter": "python",
   "pygments_lexer": "ipython3",
   "version": "3.11.7"
  }
 },
 "nbformat": 4,
 "nbformat_minor": 5
}
