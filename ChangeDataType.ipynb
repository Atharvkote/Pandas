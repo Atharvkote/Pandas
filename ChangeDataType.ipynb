{
 "cells": [
  {
   "cell_type": "markdown",
   "id": "6cfc14eb-b248-4938-8235-af261bdcf7ce",
   "metadata": {},
   "source": [
    "# Changing DataType : \n",
    "\n",
    "we have a DataFrame named students that contains student data. However, the grades are stored as floats instead of integers. The goal is to change the grade type from floats to integers.\n",
    "\n",
    "- `Key Concepts`:\n",
    "\n",
    "- `astype Function`: The astype function is used to cast a pandas object to a specified dtype (data type). astype can be used to cast a pandas object to any dtype. The astype function does not modify the original DataFrame in place. Instead, it returns a new DataFrame with the specified data type changes. If you want to reflect changes in the original DataFrame, you need to reassign the result back to it or use the copy parameter accordingly.\n",
    "\n",
    "-  The function’s syntax is:\n",
    "\n",
    "```python\n",
    "DataFrame.astype(dtype, copy=True, errors='raise')\n",
    "```\n",
    "Where:\n",
    "\n",
    "- `dtype`: It's a data type, or dict of column name -> data type.\n",
    "- `copy`: By default, astype always returns a newly allocated object. If copy is set to False, a new object will only be created if the old object cannot be casted to the required type.\n",
    "- `errors`: Controls the raising of exceptions on invalid data for the provided dtype. By default, raise is set which means exceptions will be raised.\n",
    "\n",
    "So in our case we want to cast the grade column from float to int and we can do so with the following line:\n",
    "\n",
    "```python\n",
    "students = students.astype({'grade': int})\n",
    "```\n",
    "- `Intuition` :\n",
    "\n",
    "In the provided solution:\n",
    "```python\n",
    "students = students.astype({'grade': int})\n",
    "```\n",
    "`This line is casting the grade column from float to int.`\n",
    "\n",
    "Let’s go step by step through the provided solution:\n",
    "\n",
    "- `Importing pandas`: python import pandas as pd This line imports the pandas library and gives it an alias name pd. The pandas library provides fast, flexible, and expressive data structures designed to work with structured (tabular, multidimensional, potentially heterogeneous) data.\n",
    "\n",
    "- `Changing Data Type of a Column` : `python students = students.astype({'grade': int})` This line of code is the heart of the solution. It changes the data type of the grade column to integer using the astype function. The` {'grade': int} `is a dictionary where the key is the column name and the value is the desired data type.\n",
    "\n",
    "### Output :\n",
    "\n",
    "- DataFrame you passed to the functions :\n",
    "\n",
    "| student_id | name | age | grade |\r\n",
    "|------------|------|-----|-------|\r\n",
    "| 1          | Ava  | 6   | 73.0  |\r\n",
    "| 2          | Kate | 15  | 87.0 \n",
    "- It will return :\n",
    "\n",
    "| student_id | name | age | grade |\r\n",
    "|------------|------|-----|-------|\r\n",
    "| 1          | Ava  | 6   | 73    |\r\n",
    "| 2          | Kate | 15  | |\r\n",
    "5\t87"
   ]
  },
  {
   "cell_type": "code",
   "execution_count": 1,
   "id": "ba8950b2-d354-4fc8-add6-a11b236ca62e",
   "metadata": {},
   "outputs": [],
   "source": [
    "import pandas as pd\n",
    "# Importing pandas library using 'Import' Keyord"
   ]
  },
  {
   "cell_type": "code",
   "execution_count": 2,
   "id": "dac771b2-261e-471c-8499-1853e49a2d4b",
   "metadata": {},
   "outputs": [],
   "source": [
    "# Create the DataFrame\n",
    "data = {\n",
    "    'student_id': [1, 2],\n",
    "    'name': ['Ava', 'Kate'],\n",
    "    'age': [6, 15],\n",
    "    'grade': [73.0, 87.0]\n",
    "}"
   ]
  },
  {
   "cell_type": "code",
   "execution_count": 3,
   "id": "3ca0afcd-2c60-4ce8-a439-e892aa646420",
   "metadata": {},
   "outputs": [],
   "source": [
    "# Convert the list of dictionaries to a pandas DataFrame\n",
    "student_df = pd.DataFrame(data)"
   ]
  },
  {
   "cell_type": "code",
   "execution_count": 4,
   "id": "e31cd0a0-3365-4f6a-99df-ac08ce728a0a",
   "metadata": {},
   "outputs": [
    {
     "data": {
      "text/html": [
       "<div>\n",
       "<style scoped>\n",
       "    .dataframe tbody tr th:only-of-type {\n",
       "        vertical-align: middle;\n",
       "    }\n",
       "\n",
       "    .dataframe tbody tr th {\n",
       "        vertical-align: top;\n",
       "    }\n",
       "\n",
       "    .dataframe thead th {\n",
       "        text-align: right;\n",
       "    }\n",
       "</style>\n",
       "<table border=\"1\" class=\"dataframe\">\n",
       "  <thead>\n",
       "    <tr style=\"text-align: right;\">\n",
       "      <th></th>\n",
       "      <th>student_id</th>\n",
       "      <th>name</th>\n",
       "      <th>age</th>\n",
       "      <th>grade</th>\n",
       "    </tr>\n",
       "  </thead>\n",
       "  <tbody>\n",
       "    <tr>\n",
       "      <th>0</th>\n",
       "      <td>1</td>\n",
       "      <td>Ava</td>\n",
       "      <td>6</td>\n",
       "      <td>73.0</td>\n",
       "    </tr>\n",
       "    <tr>\n",
       "      <th>1</th>\n",
       "      <td>2</td>\n",
       "      <td>Kate</td>\n",
       "      <td>15</td>\n",
       "      <td>87.0</td>\n",
       "    </tr>\n",
       "  </tbody>\n",
       "</table>\n",
       "</div>"
      ],
      "text/plain": [
       "   student_id  name  age  grade\n",
       "0           1   Ava    6   73.0\n",
       "1           2  Kate   15   87.0"
      ]
     },
     "execution_count": 4,
     "metadata": {},
     "output_type": "execute_result"
    }
   ],
   "source": [
    "student_df"
   ]
  },
  {
   "cell_type": "code",
   "execution_count": 6,
   "id": "525a5dda-a693-4790-8d7f-f5f0a08f707a",
   "metadata": {},
   "outputs": [],
   "source": [
    "student_df=student_df.astype({'grade': int})"
   ]
  },
  {
   "cell_type": "code",
   "execution_count": 7,
   "id": "28b0980e-b60f-484c-9f0f-e257ad786ea0",
   "metadata": {},
   "outputs": [
    {
     "data": {
      "text/html": [
       "<div>\n",
       "<style scoped>\n",
       "    .dataframe tbody tr th:only-of-type {\n",
       "        vertical-align: middle;\n",
       "    }\n",
       "\n",
       "    .dataframe tbody tr th {\n",
       "        vertical-align: top;\n",
       "    }\n",
       "\n",
       "    .dataframe thead th {\n",
       "        text-align: right;\n",
       "    }\n",
       "</style>\n",
       "<table border=\"1\" class=\"dataframe\">\n",
       "  <thead>\n",
       "    <tr style=\"text-align: right;\">\n",
       "      <th></th>\n",
       "      <th>student_id</th>\n",
       "      <th>name</th>\n",
       "      <th>age</th>\n",
       "      <th>grade</th>\n",
       "    </tr>\n",
       "  </thead>\n",
       "  <tbody>\n",
       "    <tr>\n",
       "      <th>0</th>\n",
       "      <td>1</td>\n",
       "      <td>Ava</td>\n",
       "      <td>6</td>\n",
       "      <td>73</td>\n",
       "    </tr>\n",
       "    <tr>\n",
       "      <th>1</th>\n",
       "      <td>2</td>\n",
       "      <td>Kate</td>\n",
       "      <td>15</td>\n",
       "      <td>87</td>\n",
       "    </tr>\n",
       "  </tbody>\n",
       "</table>\n",
       "</div>"
      ],
      "text/plain": [
       "   student_id  name  age  grade\n",
       "0           1   Ava    6     73\n",
       "1           2  Kate   15     87"
      ]
     },
     "execution_count": 7,
     "metadata": {},
     "output_type": "execute_result"
    }
   ],
   "source": [
    "student_df"
   ]
  },
  {
   "cell_type": "markdown",
   "id": "8f7e0446-02bf-4a9d-a323-3a369e58f898",
   "metadata": {},
   "source": [
    "### This is My you can Type Cast the columns Use astype Functions"
   ]
  }
 ],
 "metadata": {
  "kernelspec": {
   "display_name": "Python 3 (ipykernel)",
   "language": "python",
   "name": "python3"
  },
  "language_info": {
   "codemirror_mode": {
    "name": "ipython",
    "version": 3
   },
   "file_extension": ".py",
   "mimetype": "text/x-python",
   "name": "python",
   "nbconvert_exporter": "python",
   "pygments_lexer": "ipython3",
   "version": "3.11.7"
  }
 },
 "nbformat": 4,
 "nbformat_minor": 5
}
